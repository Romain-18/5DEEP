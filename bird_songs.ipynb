{
 "cells": [
  {
   "cell_type": "markdown",
   "id": "8e18e31b",
   "metadata": {},
   "source": [
    "# 5DEEP - Projet final : Classification des chants d'oiseaux\n",
    "\n",
    "Pour rappel:\n",
    "\n",
    "Il s'agit d'un problème de classification de chants d'oiseaux avec 5 classes, une pour chacune des espèces suivantes : \n",
    "\n",
    "- Bewick's Wren\n",
    "- Northern Cardinal\n",
    "- American Robin\n",
    "- Song Sparrow\n",
    "- Northern Mockingbird\n",
    "\n",
    "Pour répondre à cette problématique, nous utiliserons des réseaux de neuronnes que nous préparerons et entraînerons grâce à Keras et Librosa dans ce notebook Jupyter."
   ]
  },
  {
   "cell_type": "markdown",
   "id": "0dc0dd79",
   "metadata": {},
   "source": [
    "## Etape 1: Analyse exploratoire et comprehension des données\n",
    "\n",
    "Nous allons tout d'abord commencer par comprendre les différentes données mises à disposition, mais aussi comprendre l'interpretation de ces fichiers audio et leur traitement."
   ]
  },
  {
   "cell_type": "code",
   "execution_count": null,
   "id": "df524035",
   "metadata": {},
   "outputs": [],
   "source": [
    "import pandas as pd\n",
    "\n",
    "bird_df = pd.read_csv(\"data/bird_songs_metadata.csv\")\n",
    "\n",
    "bird_df.head(10)\n"
   ]
  }
 ],
 "metadata": {
  "kernelspec": {
   "display_name": "base",
   "language": "python",
   "name": "python3"
  },
  "language_info": {
   "codemirror_mode": {
    "name": "ipython",
    "version": 3
   },
   "file_extension": ".py",
   "mimetype": "text/x-python",
   "name": "python",
   "nbconvert_exporter": "python",
   "pygments_lexer": "ipython3",
   "version": "3.12.7"
  }
 },
 "nbformat": 4,
 "nbformat_minor": 5
}
